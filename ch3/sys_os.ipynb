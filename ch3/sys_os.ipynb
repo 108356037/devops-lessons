{
 "cells": [
  {
   "cell_type": "code",
   "execution_count": 3,
   "id": "local-motor",
   "metadata": {
    "ExecuteTime": {
     "end_time": "2021-02-04T12:25:48.191474Z",
     "start_time": "2021-02-04T12:25:48.178868Z"
    }
   },
   "outputs": [],
   "source": [
    "import sys\n",
    "import os"
   ]
  },
  {
   "cell_type": "code",
   "execution_count": 4,
   "id": "enclosed-congress",
   "metadata": {
    "ExecuteTime": {
     "end_time": "2021-02-04T12:25:49.249299Z",
     "start_time": "2021-02-04T12:25:49.239494Z"
    }
   },
   "outputs": [
    {
     "data": {
      "text/plain": [
       "'/home/fighter158/Documents/devops-lesson/ch3'"
      ]
     },
     "execution_count": 4,
     "metadata": {},
     "output_type": "execute_result"
    }
   ],
   "source": [
    "os.getcwd()"
   ]
  },
  {
   "cell_type": "code",
   "execution_count": 15,
   "id": "casual-entry",
   "metadata": {
    "ExecuteTime": {
     "end_time": "2021-02-04T12:29:02.819042Z",
     "start_time": "2021-02-04T12:29:02.807560Z"
    }
   },
   "outputs": [
    {
     "data": {
      "text/plain": [
       "'fighter158'"
      ]
     },
     "execution_count": 15,
     "metadata": {},
     "output_type": "execute_result"
    }
   ],
   "source": [
    "os.getlogin()"
   ]
  },
  {
   "cell_type": "code",
   "execution_count": 35,
   "id": "finished-savannah",
   "metadata": {
    "ExecuteTime": {
     "end_time": "2021-02-04T13:01:18.687705Z",
     "start_time": "2021-02-04T13:01:18.671845Z"
    }
   },
   "outputs": [
    {
     "name": "stdout",
     "output_type": "stream",
     "text": [
      "Overwriting sys_argv.py\n"
     ]
    }
   ],
   "source": [
    "%%writefile sys_argv.py\n",
    "#!/usr/bin/python3\n",
    "\n",
    "import sys\n",
    "\n",
    "if __name__ == '__main__':\n",
    "    print(f\"The first arg: {sys.argv[0]}\")\n",
    "    print(f\"The second arg: {sys.argv[1]}\")\n",
    "    print(f\"The third arg: {sys.argv[2]}\")"
   ]
  },
  {
   "cell_type": "code",
   "execution_count": 36,
   "id": "french-minority",
   "metadata": {
    "ExecuteTime": {
     "end_time": "2021-02-04T13:01:19.282772Z",
     "start_time": "2021-02-04T13:01:19.131724Z"
    }
   },
   "outputs": [
    {
     "name": "stdout",
     "output_type": "stream",
     "text": [
      "The first arg: ./sys_argv.py\r\n",
      "The second arg: --a--\r\n",
      "The third arg: docker\r\n"
     ]
    }
   ],
   "source": [
    "!./sys_argv.py --a-- docker"
   ]
  },
  {
   "cell_type": "markdown",
   "id": "complimentary-turtle",
   "metadata": {},
   "source": [
    "# Click"
   ]
  },
  {
   "cell_type": "code",
   "execution_count": 47,
   "id": "confirmed-tucson",
   "metadata": {
    "ExecuteTime": {
     "end_time": "2021-02-04T13:03:52.905616Z",
     "start_time": "2021-02-04T13:03:52.894899Z"
    }
   },
   "outputs": [
    {
     "name": "stdout",
     "output_type": "stream",
     "text": [
      "Overwriting simple_click.py\n"
     ]
    }
   ],
   "source": [
    "%%writefile simple_click.py\n",
    "#!/usr/bin/python3\n",
    "\n",
    "import click\n",
    "\n",
    "@click.command()\n",
    "@click.option('--mqtype', default='Mqtt', help='type of mq system')\n",
    "@click.option('--broker', default='Azure', help='Broker provider')\n",
    "def call(mqtype, broker):\n",
    "    print(f\"using {mqtype} as message queue, connecting to {broker}...\")\n",
    "    \n",
    "if __name__== '__main__':\n",
    "    call()"
   ]
  },
  {
   "cell_type": "code",
   "execution_count": 51,
   "id": "declared-annotation",
   "metadata": {
    "ExecuteTime": {
     "end_time": "2021-02-04T13:04:24.475334Z",
     "start_time": "2021-02-04T13:04:24.308793Z"
    }
   },
   "outputs": [
    {
     "name": "stdout",
     "output_type": "stream",
     "text": [
      "using Apache_Kafka as message queue, connecting to Azure...\r\n"
     ]
    }
   ],
   "source": [
    "!./simple_click.py --mqtype Apache_Kafka"
   ]
  },
  {
   "cell_type": "code",
   "execution_count": null,
   "id": "understanding-essay",
   "metadata": {},
   "outputs": [],
   "source": []
  }
 ],
 "metadata": {
  "kernelspec": {
   "display_name": "Python 3.6.9 64-bit",
   "language": "python",
   "name": "python36964bite50157c3c5874087b4469bf870d5c2ac"
  },
  "language_info": {
   "codemirror_mode": {
    "name": "ipython",
    "version": 3
   },
   "file_extension": ".py",
   "mimetype": "text/x-python",
   "name": "python",
   "nbconvert_exporter": "python",
   "pygments_lexer": "ipython3",
   "version": "3.6.9"
  }
 },
 "nbformat": 4,
 "nbformat_minor": 5
}
