{
 "cells": [
  {
   "cell_type": "code",
   "execution_count": 2,
   "id": "extreme-reservoir",
   "metadata": {
    "ExecuteTime": {
     "end_time": "2021-02-04T09:08:12.933121Z",
     "start_time": "2021-02-04T09:08:12.888355Z"
    }
   },
   "outputs": [
    {
     "name": "stderr",
     "output_type": "stream",
     "text": [
      "\u001b[1m\u001b[31mERROR: \u001b[0mCannot find key: -f\n",
      "Usage: ipykernel_launcher.py <group|command>\n",
      "  available groups:      In | Out | exit | quit | json | autopep8 | fire\n",
      "  available commands:    get_ipython | greet | moo\n",
      "\n",
      "For detailed information on this command, run:\n",
      "  ipykernel_launcher.py --help\n"
     ]
    },
    {
     "ename": "FireExit",
     "evalue": "2",
     "output_type": "error",
     "traceback": [
      "An exception has occurred, use %tb to see the full traceback.\n",
      "\u001b[0;31mFireExit\u001b[0m\u001b[0;31m:\u001b[0m 2\n"
     ]
    },
    {
     "name": "stderr",
     "output_type": "stream",
     "text": [
      "/home/fighter158/.local/lib/python3.6/site-packages/IPython/core/interactiveshell.py:3351: UserWarning: To exit: use 'exit', 'quit', or Ctrl-D.\n",
      "  warn(\"To exit: use 'exit', 'quit', or Ctrl-D.\", stacklevel=1)\n"
     ]
    }
   ],
   "source": [
    "import fire\n",
    "\n",
    "def greet(people=\"KD\"):\n",
    "    print(f\"{people} is good at b-ball\")\n",
    "\n",
    "def moo(ani=\"COW\"):\n",
    "    print(f\"{ani} can MOOOOOO\")\n",
    "    \n",
    "if __name__ == '__main__':\n",
    "    fire.Fire()"
   ]
  },
  {
   "cell_type": "code",
   "execution_count": 3,
   "id": "australian-marks",
   "metadata": {
    "ExecuteTime": {
     "end_time": "2021-02-04T09:08:55.941809Z",
     "start_time": "2021-02-04T09:08:55.831747Z"
    }
   },
   "outputs": [
    {
     "name": "stdout",
     "output_type": "stream",
     "text": [
      "/usr/bin/python3\r\n"
     ]
    }
   ],
   "source": [
    "!which python3"
   ]
  },
  {
   "cell_type": "code",
   "execution_count": null,
   "id": "funded-sacrifice",
   "metadata": {},
   "outputs": [],
   "source": []
  }
 ],
 "metadata": {
  "kernelspec": {
   "display_name": "Python 3.6.9 64-bit",
   "language": "python",
   "name": "python36964bite50157c3c5874087b4469bf870d5c2ac"
  },
  "language_info": {
   "codemirror_mode": {
    "name": "ipython",
    "version": 3
   },
   "file_extension": ".py",
   "mimetype": "text/x-python",
   "name": "python",
   "nbconvert_exporter": "python",
   "pygments_lexer": "ipython3",
   "version": "3.6.9"
  }
 },
 "nbformat": 4,
 "nbformat_minor": 5
}
