{
 "cells": [
  {
   "cell_type": "code",
   "execution_count": 3,
   "metadata": {
    "ExecuteTime": {
     "end_time": "2021-02-04T09:08:12.933121Z",
     "start_time": "2021-02-04T09:08:12.888355Z"
    }
   },
   "outputs": [
    {
     "name": "stdout",
     "output_type": "stream",
     "text": [
      "Overwriting fire_moo.py\n"
     ]
    }
   ],
   "source": [
    "%%writefile fire_moo.py\n",
    "#!$HOME/anaconda3/bin/python3\n",
    "import fire\n",
    "\n",
    "def greet(people=\"KD\"):\n",
    "    print(f\"{people} is good at b-ball\")\n",
    "\n",
    "def moo(ani=\"COW\"):\n",
    "    print(f\"{ani} can MOOOOOO\")\n",
    "    \n",
    "if __name__ == '__main__':\n",
    "    fire.Fire()"
   ]
  },
  {
   "cell_type": "code",
   "execution_count": 7,
   "metadata": {
    "ExecuteTime": {
     "end_time": "2021-02-04T09:08:55.941809Z",
     "start_time": "2021-02-04T09:08:55.831747Z"
    }
   },
   "outputs": [
    {
     "name": "stdout",
     "output_type": "stream",
     "text": [
      "Bradley Beal is good at b-ball\r\n"
     ]
    }
   ],
   "source": [
    "!python3 fire_moo.py greet --people=\"Bradley Beal\""
   ]
  },
  {
   "cell_type": "code",
   "execution_count": null,
   "metadata": {},
   "outputs": [],
   "source": []
  }
 ],
 "metadata": {
  "kernelspec": {
   "display_name": "Python 3",
   "language": "python",
   "name": "python3"
  },
  "language_info": {
   "codemirror_mode": {
    "name": "ipython",
    "version": 3
   },
   "file_extension": ".py",
   "mimetype": "text/x-python",
   "name": "python",
   "nbconvert_exporter": "python",
   "pygments_lexer": "ipython3",
   "version": "3.7.6"
  }
 },
 "nbformat": 4,
 "nbformat_minor": 5
}
