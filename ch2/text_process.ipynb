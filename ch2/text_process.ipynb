{
 "cells": [
  {
   "cell_type": "code",
   "execution_count": 30,
   "id": "latter-crack",
   "metadata": {
    "ExecuteTime": {
     "end_time": "2021-02-04T12:20:38.332102Z",
     "start_time": "2021-02-04T12:20:38.321323Z"
    }
   },
   "outputs": [
    {
     "name": "stdout",
     "output_type": "stream",
     "text": [
      "['FROM tensorflow/tensorflow:latest-gpu-jupyter\\n', '\\n', 'ARG NB_USER=\"Oring-AI\"\\n', '\\n', 'ENV password 12345\\n', '\\n', 'ENV SHELL=/bin/bash \\n', '\\n', 'WORKDIR /\\n', '\\n', 'USER root \\n', '\\n', 'RUN apt-get update &&\\\\\\n', '    /usr/bin/python3 -m pip install --upgrade pip &&\\\\\\n', '\\tpip install torch==1.5.1+cu101 torchvision==0.6.1+cu101 -f https://download.pytorch.org/whl/torch_stable.html &&\\\\\\n', '\\tpip install jupyterlab \\n', '\\t\\n', '\\n', 'RUN apt-get -y install sudo \\n', '\\n', 'CMD [\"/bin/bash\"]\\n']\n"
     ]
    }
   ],
   "source": [
    "file = 'Dockerfile'\n",
    "open_file = open(file, 'r')\n",
    "text = open_file.readlines()\n",
    "print(text)\n",
    "open_file.close()"
   ]
  },
  {
   "cell_type": "code",
   "execution_count": 31,
   "id": "empty-naples",
   "metadata": {
    "ExecuteTime": {
     "end_time": "2021-02-04T12:20:40.339580Z",
     "start_time": "2021-02-04T12:20:40.324734Z"
    }
   },
   "outputs": [
    {
     "name": "stdout",
     "output_type": "stream",
     "text": [
      "FROM tensorflow/tensorflow:latest-gpu-jupyter\n",
      "ARG NB_USER=\"Oring-AI\"\n",
      "ENV password 12345\n",
      "ENV SHELL=/bin/bash \n",
      "WORKDIR /\n",
      "USER root \n",
      "RUN apt-get update &&\\\n",
      "    /usr/bin/python3 -m pip install --upgrade pip &&\\\n",
      "pip install torch==1.5.1+cu101 torchvision==0.6.1+cu101 -f https://download.pytorch.org/whl/torch_stable.html &&\\\n",
      "pip install jupyterlab \n",
      "RUN apt-get -y install sudo \n",
      "CMD [\"/bin/bash\"]\n"
     ]
    }
   ],
   "source": [
    "with open(file, 'rb') as f:\n",
    "    text = f.readlines()\n",
    "\n",
    "for t in text:\n",
    "    if t.decode()!='\\n' and t.decode()!='\\t\\n':\n",
    "        t=t.decode().strip('\\n').strip('\\t')\n",
    "        print(t)"
   ]
  },
  {
   "cell_type": "code",
   "execution_count": 6,
   "id": "dimensional-atlantic",
   "metadata": {
    "ExecuteTime": {
     "end_time": "2021-02-04T12:04:25.099857Z",
     "start_time": "2021-02-04T12:04:25.092986Z"
    }
   },
   "outputs": [
    {
     "data": {
      "text/plain": [
       "True"
      ]
     },
     "execution_count": 6,
     "metadata": {},
     "output_type": "execute_result"
    }
   ],
   "source": []
  },
  {
   "cell_type": "code",
   "execution_count": null,
   "id": "maritime-dance",
   "metadata": {},
   "outputs": [],
   "source": []
  }
 ],
 "metadata": {
  "kernelspec": {
   "display_name": "Python 3",
   "language": "python",
   "name": "python3"
  },
  "language_info": {
   "codemirror_mode": {
    "name": "ipython",
    "version": 3
   },
   "file_extension": ".py",
   "mimetype": "text/x-python",
   "name": "python",
   "nbconvert_exporter": "python",
   "pygments_lexer": "ipython3",
   "version": "3.6.9"
  }
 },
 "nbformat": 4,
 "nbformat_minor": 5
}
