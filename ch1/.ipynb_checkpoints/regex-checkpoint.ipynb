{
 "cells": [
  {
   "cell_type": "code",
   "execution_count": 1,
   "id": "manufactured-testing",
   "metadata": {
    "ExecuteTime": {
     "end_time": "2021-02-04T11:57:12.667809Z",
     "start_time": "2021-02-04T11:57:12.661321Z"
    }
   },
   "outputs": [
    {
     "data": {
      "text/plain": [
       "['docker', 'k8s', 'az', 'GKE']"
      ]
     },
     "execution_count": 1,
     "metadata": {},
     "output_type": "execute_result"
    }
   ],
   "source": [
    "a = [\"docker\", \"k8s\"]\n",
    "b = [\"az\", \"GKE\"]\n",
    "a.extend(b)\n",
    "a"
   ]
  },
  {
   "cell_type": "code",
   "execution_count": 2,
   "id": "changing-highland",
   "metadata": {
    "ExecuteTime": {
     "end_time": "2021-02-04T11:57:12.674161Z",
     "start_time": "2021-02-04T11:57:12.669266Z"
    }
   },
   "outputs": [
    {
     "data": {
      "text/plain": [
       "'zzz       '"
      ]
     },
     "execution_count": 2,
     "metadata": {},
     "output_type": "execute_result"
    }
   ],
   "source": [
    "a = \"zzz\"\n",
    "a.ljust(10)"
   ]
  },
  {
   "cell_type": "code",
   "execution_count": 3,
   "id": "optimum-horizontal",
   "metadata": {
    "ExecuteTime": {
     "end_time": "2021-02-04T11:57:12.678781Z",
     "start_time": "2021-02-04T11:57:12.675401Z"
    }
   },
   "outputs": [
    {
     "data": {
      "text/plain": [
       "'*******zzz'"
      ]
     },
     "execution_count": 3,
     "metadata": {},
     "output_type": "execute_result"
    }
   ],
   "source": [
    "a = \"zzz\"\n",
    "a.rjust(10,'*')"
   ]
  },
  {
   "cell_type": "code",
   "execution_count": 4,
   "id": "missing-skating",
   "metadata": {
    "ExecuteTime": {
     "end_time": "2021-02-04T11:57:12.684433Z",
     "start_time": "2021-02-04T11:57:12.679850Z"
    }
   },
   "outputs": [
    {
     "name": "stdout",
     "output_type": "stream",
     "text": [
      "a: 12.21\n",
      "b: 10.165\n",
      "c: 1341.1464\n"
     ]
    }
   ],
   "source": [
    "a = 12.212144\n",
    "b = 10.16484\n",
    "c = 1341.1464\n",
    "print(f\"a: {a:.2f}\\nb: {b:.3f}\\nc: {c:.4f}\")"
   ]
  },
  {
   "cell_type": "code",
   "execution_count": 5,
   "id": "pressing-haiti",
   "metadata": {
    "ExecuteTime": {
     "end_time": "2021-02-04T11:57:12.689911Z",
     "start_time": "2021-02-04T11:57:12.685503Z"
    }
   },
   "outputs": [
    {
     "data": {
      "text/plain": [
       "'this is example: val1, val2'"
      ]
     },
     "execution_count": 5,
     "metadata": {},
     "output_type": "execute_result"
    }
   ],
   "source": [
    "val = {'key1': 'val1', 'key2': 'val2'}\n",
    "\n",
    "\"this is example: {key1}, {key2}\".format(**val)"
   ]
  },
  {
   "cell_type": "code",
   "execution_count": 6,
   "id": "isolated-thomson",
   "metadata": {
    "ExecuteTime": {
     "end_time": "2021-02-04T11:57:12.696416Z",
     "start_time": "2021-02-04T11:57:12.691021Z"
    }
   },
   "outputs": [
    {
     "data": {
      "text/plain": [
       "'|*********o00o^^^^^^^^^|'"
      ]
     },
     "execution_count": 6,
     "metadata": {},
     "output_type": "execute_result"
    }
   ],
   "source": [
    "sym = 'o'\n",
    "text = f\"|{sym:*>10}00{sym:^<10}|\"\n",
    "text"
   ]
  },
  {
   "cell_type": "code",
   "execution_count": 7,
   "id": "senior-control",
   "metadata": {
    "ExecuteTime": {
     "end_time": "2021-02-04T11:57:12.701731Z",
     "start_time": "2021-02-04T11:57:12.698080Z"
    }
   },
   "outputs": [
    {
     "name": "stdout",
     "output_type": "stream",
     "text": [
      "|       100|\n",
      "|                 100|\n"
     ]
    }
   ],
   "source": [
    "count = 100\n",
    "padding = 20\n",
    "print(f\"|{count:10d}|\")\n",
    "print(f\"|{count:{padding}d}|\")"
   ]
  },
  {
   "cell_type": "code",
   "execution_count": 8,
   "id": "controlled-stack",
   "metadata": {
    "ExecuteTime": {
     "end_time": "2021-02-04T11:57:12.707889Z",
     "start_time": "2021-02-04T11:57:12.703298Z"
    }
   },
   "outputs": [
    {
     "name": "stdout",
     "output_type": "stream",
     "text": [
      "安安 Oring Boy\n",
      "こんにちは Oring Boy\n"
     ]
    }
   ],
   "source": [
    "from string import Template\n",
    "greeting = Template(\"$HELLO Oring Boy\")\n",
    "print(greeting.substitute(HELLO=\"安安\"))\n",
    "print(greeting.substitute(HELLO=\"こんにちは\"))"
   ]
  },
  {
   "cell_type": "markdown",
   "id": "naughty-niagara",
   "metadata": {},
   "source": [
    "# Regex"
   ]
  },
  {
   "cell_type": "code",
   "execution_count": 9,
   "id": "eleven-sunday",
   "metadata": {
    "ExecuteTime": {
     "end_time": "2021-02-04T11:57:12.712684Z",
     "start_time": "2021-02-04T11:57:12.708999Z"
    }
   },
   "outputs": [],
   "source": [
    "import re"
   ]
  },
  {
   "cell_type": "code",
   "execution_count": 10,
   "id": "through-japan",
   "metadata": {
    "ExecuteTime": {
     "end_time": "2021-02-04T11:57:12.718489Z",
     "start_time": "2021-02-04T11:57:12.713818Z"
    }
   },
   "outputs": [],
   "source": [
    "cc_list = '''\n",
    "Kevin Durant <easysniper@gmail.13244com>\n",
    "Kyrie Irving <meth@hotmail.com>\n",
    "Kyre11 Tert <dqd123@oringnet.com>'''"
   ]
  },
  {
   "cell_type": "code",
   "execution_count": 11,
   "id": "present-reservoir",
   "metadata": {
    "ExecuteTime": {
     "end_time": "2021-02-04T11:57:12.724092Z",
     "start_time": "2021-02-04T11:57:12.719544Z"
    }
   },
   "outputs": [
    {
     "data": {
      "text/plain": [
       "<_sre.SRE_Match object; span=(42, 46), match='Kyri'>"
      ]
     },
     "execution_count": 11,
     "metadata": {},
     "output_type": "execute_result"
    }
   ],
   "source": [
    "re.search(r'[KY]yr[ie]', cc_list)"
   ]
  },
  {
   "cell_type": "code",
   "execution_count": 12,
   "id": "skilled-shakespeare",
   "metadata": {
    "ExecuteTime": {
     "end_time": "2021-02-04T11:57:12.729842Z",
     "start_time": "2021-02-04T11:57:12.725321Z"
    }
   },
   "outputs": [
    {
     "data": {
      "text/plain": [
       "<_sre.SRE_Match object; span=(15, 40), match='easysniper@gmail.13244com'>"
      ]
     },
     "execution_count": 12,
     "metadata": {},
     "output_type": "execute_result"
    }
   ],
   "source": [
    "re.search(r'[A-Za-z]+@[A-za-z]+.*com', cc_list)"
   ]
  },
  {
   "cell_type": "code",
   "execution_count": 13,
   "id": "frank-possibility",
   "metadata": {
    "ExecuteTime": {
     "end_time": "2021-02-04T11:57:12.734554Z",
     "start_time": "2021-02-04T11:57:12.730993Z"
    }
   },
   "outputs": [
    {
     "data": {
      "text/plain": [
       "<_sre.SRE_Match object; span=(32, 37), match='13244'>"
      ]
     },
     "execution_count": 13,
     "metadata": {},
     "output_type": "execute_result"
    }
   ],
   "source": [
    "re.search(r'\\d+', cc_list)"
   ]
  },
  {
   "cell_type": "code",
   "execution_count": 14,
   "id": "alpha-ghana",
   "metadata": {
    "ExecuteTime": {
     "end_time": "2021-02-04T11:57:12.740423Z",
     "start_time": "2021-02-04T11:57:12.735647Z"
    }
   },
   "outputs": [
    {
     "data": {
      "text/plain": [
       "<_sre.SRE_Match object; span=(1, 6), match='Kevin'>"
      ]
     },
     "execution_count": 14,
     "metadata": {},
     "output_type": "execute_result"
    }
   ],
   "source": [
    "re.search(r'\\w+', cc_list)"
   ]
  },
  {
   "cell_type": "code",
   "execution_count": 15,
   "id": "unavailable-monster",
   "metadata": {
    "ExecuteTime": {
     "end_time": "2021-02-04T11:57:12.745362Z",
     "start_time": "2021-02-04T11:57:12.741669Z"
    }
   },
   "outputs": [
    {
     "data": {
      "text/plain": [
       "<_sre.SRE_Match object; span=(15, 40), match='easysniper@gmail.13244com'>"
      ]
     },
     "execution_count": 15,
     "metadata": {},
     "output_type": "execute_result"
    }
   ],
   "source": [
    "re.search(r'\\w+\\@\\w+\\.\\w+', cc_list)"
   ]
  },
  {
   "cell_type": "code",
   "execution_count": 16,
   "id": "illegal-arrival",
   "metadata": {
    "ExecuteTime": {
     "end_time": "2021-02-04T11:57:12.751701Z",
     "start_time": "2021-02-04T11:57:12.746451Z"
    }
   },
   "outputs": [
    {
     "name": "stdout",
     "output_type": "stream",
     "text": [
      "match.group(0):  easysniper@gmail.13244com\n",
      "match.group(1):  easysniper\n",
      "match.group(2):  gmail\n",
      "match.group(3):  13244com\n"
     ]
    }
   ],
   "source": [
    "match = re.search(r'(\\w+)\\@(\\w+)\\.(\\w+)', cc_list)\n",
    "print(\"match.group(0): \", match.group(0))\n",
    "print(\"match.group(1): \", match.group(1))\n",
    "print(\"match.group(2): \", match.group(2))\n",
    "print(\"match.group(3): \", match.group(3))"
   ]
  },
  {
   "cell_type": "code",
   "execution_count": 17,
   "id": "pressing-berkeley",
   "metadata": {
    "ExecuteTime": {
     "end_time": "2021-02-04T11:57:12.756846Z",
     "start_time": "2021-02-04T11:57:12.752741Z"
    }
   },
   "outputs": [
    {
     "name": "stdout",
     "output_type": "stream",
     "text": [
      "easysniper\n",
      "gmail\n",
      "13244com\n"
     ]
    }
   ],
   "source": [
    "match = re.search(r'(?P<name>\\w+)\\@(?P<SLD>\\w+)\\.(?P<TLD>\\w+)', cc_list)\n",
    "print(match.group('name'))\n",
    "print(match.group('SLD'))\n",
    "print(match.group('TLD'))"
   ]
  },
  {
   "cell_type": "code",
   "execution_count": 18,
   "id": "postal-community",
   "metadata": {
    "ExecuteTime": {
     "end_time": "2021-02-04T11:57:12.763352Z",
     "start_time": "2021-02-04T11:57:12.757812Z"
    }
   },
   "outputs": [
    {
     "data": {
      "text/plain": [
       "[('easysniper', 'gmail', '13244com'),\n",
       " ('meth', 'hotmail', 'com'),\n",
       " ('dqd123', 'oringnet', 'com')]"
      ]
     },
     "execution_count": 18,
     "metadata": {},
     "output_type": "execute_result"
    }
   ],
   "source": [
    "match = re.findall(r'(\\w+)\\@(\\w+)\\.(\\w+)', cc_list)\n",
    "match"
   ]
  },
  {
   "cell_type": "code",
   "execution_count": 19,
   "id": "incorrect-leone",
   "metadata": {
    "ExecuteTime": {
     "end_time": "2021-02-04T11:57:12.769726Z",
     "start_time": "2021-02-04T11:57:12.764265Z"
    }
   },
   "outputs": [
    {
     "name": "stdout",
     "output_type": "stream",
     "text": [
      "{'name': 'easysniper', 'SLD': 'gmail', 'TLD': '13244com'}\n",
      "{'name': 'meth', 'SLD': 'hotmail', 'TLD': 'com'}\n",
      "{'name': 'dqd123', 'SLD': 'oringnet', 'TLD': 'com'}\n"
     ]
    }
   ],
   "source": [
    "match = re.finditer(r'(?P<name>\\w+)\\@(?P<SLD>\\w+)\\.(?P<TLD>\\w+)', cc_list)\n",
    "for m in match:\n",
    "    print(m.groupdict())"
   ]
  },
  {
   "cell_type": "code",
   "execution_count": 20,
   "id": "acceptable-vertex",
   "metadata": {
    "ExecuteTime": {
     "end_time": "2021-02-04T11:57:12.776114Z",
     "start_time": "2021-02-04T11:57:12.770706Z"
    }
   },
   "outputs": [
    {
     "name": "stdout",
     "output_type": "stream",
     "text": [
      "\n",
      "Kevin Durant <13244com.gmail.easysniper>\n",
      "Kyrie Irving <com.hotmail.meth>\n",
      "Kyre11 Tert <com.oringnet.dqd123>\n"
     ]
    }
   ],
   "source": [
    "print(re.sub(r'(?P<name>\\w+)\\@(?P<SLD>\\w+)\\.(?P<TLD>\\w+)','\\g<TLD>.\\g<SLD>.\\g<name>', cc_list))"
   ]
  },
  {
   "cell_type": "markdown",
   "id": "operating-ballet",
   "metadata": {},
   "source": [
    "# Generator"
   ]
  },
  {
   "cell_type": "code",
   "execution_count": 21,
   "id": "eastern-spencer",
   "metadata": {
    "ExecuteTime": {
     "end_time": "2021-02-04T11:57:12.781997Z",
     "start_time": "2021-02-04T11:57:12.777158Z"
    }
   },
   "outputs": [
    {
     "name": "stdout",
     "output_type": "stream",
     "text": [
      "0\n",
      "1\n",
      "2\n",
      "3\n",
      "4\n",
      "5\n",
      "6\n",
      "7\n",
      "8\n",
      "9\n"
     ]
    }
   ],
   "source": [
    "def count():\n",
    "    n = 0\n",
    "    while True:\n",
    "        yield n\n",
    "        n += 1\n",
    "\n",
    "counter = count()\n",
    "for i in range(10):\n",
    "    print(next(counter))"
   ]
  },
  {
   "cell_type": "code",
   "execution_count": 22,
   "id": "visible-diabetes",
   "metadata": {
    "ExecuteTime": {
     "end_time": "2021-02-04T11:57:12.787360Z",
     "start_time": "2021-02-04T11:57:12.783934Z"
    }
   },
   "outputs": [
    {
     "name": "stdout",
     "output_type": "stream",
     "text": [
      "912\n",
      "88\n"
     ]
    }
   ],
   "source": [
    "import sys\n",
    "\n",
    "listx = [x for x in range(100)]\n",
    "genx = (x for x in range(100))\n",
    "\n",
    "print(sys.getsizeof(listx))\n",
    "print(sys.getsizeof(genx))"
   ]
  },
  {
   "cell_type": "markdown",
   "id": "sudden-rapid",
   "metadata": {},
   "source": [
    "# IPython for Unix CMDs "
   ]
  },
  {
   "cell_type": "code",
   "execution_count": 23,
   "id": "eleven-influence",
   "metadata": {
    "ExecuteTime": {
     "end_time": "2021-02-04T11:57:12.899663Z",
     "start_time": "2021-02-04T11:57:12.788502Z"
    }
   },
   "outputs": [
    {
     "name": "stdout",
     "output_type": "stream",
     "text": [
      "total 44\r\n",
      "-rw-r--r-- 1 fighter158 fighter158    74 Feb  4 19:56 print_time.py\r\n",
      "-rw-r--r-- 1 fighter158 fighter158 36888 Feb  4 19:56 regex.ipynb\r\n"
     ]
    }
   ],
   "source": [
    "!ls -l"
   ]
  },
  {
   "cell_type": "code",
   "execution_count": 24,
   "id": "short-dakota",
   "metadata": {
    "ExecuteTime": {
     "end_time": "2021-02-04T11:57:12.954683Z",
     "start_time": "2021-02-04T11:57:12.902831Z"
    }
   },
   "outputs": [
    {
     "data": {
      "text/plain": [
       "['/dev/loop0                     223232    223232         0 100% /snap/gnome-3-34-1804/60',\n",
       " '/dev/loop1                     166784    166784         0 100% /snap/gnome-3-28-1804/145',\n",
       " '/dev/loop10                     75008     75008         0 100% /snap/p3x-redis-ui/218',\n",
       " '/dev/loop11                       384       384         0 100% /snap/gnome-characters/570',\n",
       " '/dev/loop12                    147328    147328         0 100% /snap/code/52',\n",
       " '/dev/loop13                     66432     66432         0 100% /snap/gtk-common-themes/1514',\n",
       " '/dev/loop14                    100224    100224         0 100% /snap/core/10577',\n",
       " '/dev/loop15                     74880     74880         0 100% /snap/p3x-redis-ui/215',\n",
       " '/dev/loop16                     56832     56832         0 100% /snap/core18/1944',\n",
       " '/dev/loop17                      2304      2304         0 100% /snap/gnome-system-monitor/148',\n",
       " '/dev/loop18                      3840      3840         0 100% /snap/gnome-system-monitor/127',\n",
       " '/dev/loop19                      1024      1024         0 100% /snap/gnome-logs/100',\n",
       " '/dev/loop2                       1024      1024         0 100% /snap/gnome-logs/81',\n",
       " '/dev/loop20                     56704     56704         0 100% /snap/core18/1932',\n",
       " '/dev/loop21                     26240     26240         0 100% /snap/heroku/4017',\n",
       " '/dev/loop22                     98176     98176         0 100% /snap/rpi-imager/137',\n",
       " '/dev/loop23                     65920     65920         0 100% /snap/gtk-common-themes/1513',\n",
       " '/dev/loop24                      2560      2560         0 100% /snap/gnome-calculator/826',\n",
       " '/dev/loop25                    150144    150144         0 100% /snap/code/51',\n",
       " '/dev/loop3                       2560      2560         0 100% /snap/gnome-calculator/748',\n",
       " '/dev/loop4                      98176     98176         0 100% /snap/rpi-imager/129',\n",
       " '/dev/loop5                     100352    100352         0 100% /snap/core/10583',\n",
       " '/dev/loop6                      26240     26240         0 100% /snap/heroku/4010',\n",
       " '/dev/loop7                     165376    165376         0 100% /snap/gnome-3-28-1804/128',\n",
       " '/dev/loop8                     224256    224256         0 100% /snap/gnome-3-34-1804/66',\n",
       " '/dev/loop9                        384       384         0 100% /snap/gnome-characters/550',\n",
       " '/dev/mapper/ubuntu--vg-root 244094292 177977028  53648224  77% /',\n",
       " 'Filesystem                  1K-blocks      Used Available Use% Mounted on',\n",
       " 'overlay                     244094292 177977028  53648224  77% /var/lib/docker/overlay2/0349574364bef7ec61ad1b36692097462a87ea50604c531c77567be4c4170d8d/merged',\n",
       " 'overlay                     244094292 177977028  53648224  77% /var/lib/docker/overlay2/1bf11d0bcd1a2be693bf1d2dd6d1016cd4edb99426f775050ce9619b0c279f41/merged',\n",
       " 'overlay                     244094292 177977028  53648224  77% /var/lib/docker/overlay2/1f167f2b6844ea214a3d2f73157bf623757247378bf22fb3737cbbdf17f796e4/merged',\n",
       " 'overlay                     244094292 177977028  53648224  77% /var/lib/docker/overlay2/2477cb66feaf98f1370367700df55dea9cc88af9ac5539a172605c358676a03e/merged',\n",
       " 'overlay                     244094292 177977028  53648224  77% /var/lib/docker/overlay2/31cb097ccbf2986c4c68c2e55e83b11d54a6a78ab2f068cedfc99708d2c049c8/merged',\n",
       " 'overlay                     244094292 177977028  53648224  77% /var/lib/docker/overlay2/345f0734d4bbba39db3f5cb33e753331d61a91e8b8099c3ddbac80481dcc55e8/merged',\n",
       " 'overlay                     244094292 177977028  53648224  77% /var/lib/docker/overlay2/38190ad599ec1cb6a6176cb196bdff7668123c3ab5d2b61adb65c2b8cfaaa208/merged',\n",
       " 'overlay                     244094292 177977028  53648224  77% /var/lib/docker/overlay2/536e0f62d36442fb3d2094e219e0f98e30bea5435a87c62eb8739533abcc5e6b/merged',\n",
       " 'overlay                     244094292 177977028  53648224  77% /var/lib/docker/overlay2/57fe2a7cc55ad23bfc26235aff5a271c9023ab076766d413ee552502b910c4fe/merged',\n",
       " 'overlay                     244094292 177977028  53648224  77% /var/lib/docker/overlay2/61a0a75535ff3a8cd44237b098fd4f714a34d952865adb8ab510d80e87cd7a11/merged',\n",
       " 'overlay                     244094292 177977028  53648224  77% /var/lib/docker/overlay2/64dfe6b892e0c785c3535945888fdb7e87a728ccee5968c5648870364e99f5f6/merged',\n",
       " 'overlay                     244094292 177977028  53648224  77% /var/lib/docker/overlay2/65aec73f7d80ab8ca7bcacfa26ecaef4ee6e301b93a648163f98218288fd69da/merged',\n",
       " 'overlay                     244094292 177977028  53648224  77% /var/lib/docker/overlay2/76a208ff253eef4cf9067c4f9d9bf0466173bf8baae71421008434877c9f128b/merged',\n",
       " 'overlay                     244094292 177977028  53648224  77% /var/lib/docker/overlay2/8792fb3bce7f7713fa695017bedc265565d93d5af11c4627be5766c47109b1c0/merged',\n",
       " 'overlay                     244094292 177977028  53648224  77% /var/lib/docker/overlay2/acf5bbbdb49d14b60f6037ac21b73e028a1083e8913dcdee54425c94552ffa25/merged',\n",
       " 'overlay                     244094292 177977028  53648224  77% /var/lib/docker/overlay2/be6d6aa2b183f721af04d11fb380c9496d57ed42dc56ab4e8a44dace2e14054a/merged',\n",
       " 'overlay                     244094292 177977028  53648224  77% /var/lib/docker/overlay2/c7649aede17da2e30baf2c0f61d25437fddf57cd6345ac2823f498b5ab55699e/merged',\n",
       " 'overlay                     244094292 177977028  53648224  77% /var/lib/docker/overlay2/de27dc5b1e7b617122a7200d8930a2b5bc545daa15e3c44a4f638e954de26aa9/merged',\n",
       " 'overlay                     244094292 177977028  53648224  77% /var/lib/docker/overlay2/e383dcb299bbbf2fa4adfe3317755e6cbf16f4f22678d4123b0386ad887ea817/merged',\n",
       " 'overlay                     244094292 177977028  53648224  77% /var/lib/docker/overlay2/e4173bfce7eba01850d3493ddc990fc049f2376377d0ae838bd85e4a90c7ad0e/merged',\n",
       " 'overlay                     244094292 177977028  53648224  77% /var/lib/docker/overlay2/e97e65a12a9cfb6ccae452f82c71998b950faa57a0170291dccb30d96d783fa7/merged',\n",
       " 'overlay                     244094292 177977028  53648224  77% /var/lib/docker/overlay2/ebdf164df04f054ebeeda79c00d0139e6470f4c1b878d1ebc9bb6cd41276afb0/merged',\n",
       " 'overlay                     244094292 177977028  53648224  77% /var/lib/docker/overlay2/f0d1e34d07b3610f9aaa8d2b72f227434b5e208cbfa3cec6d0315798f2dc44d5/merged',\n",
       " 'overlay                     244094292 177977028  53648224  77% /var/lib/docker/overlay2/f3b329e1e0cea6e3d409cb6943b47ef22fe38f0ee7eef9a74260cfa76fed6e1b/merged',\n",
       " 'shm                             65536         0     65536   0% /var/lib/docker/containers/0287b7b7fbd03f7e04117d4944667998f7a7a121dd74e005e1fed5e85aa8036b/mounts/shm',\n",
       " 'shm                             65536         0     65536   0% /var/lib/docker/containers/035c4681c757676e4785baee45c1a0cec17e6edb97c71ef7a11577dbfb3660a4/mounts/shm',\n",
       " 'shm                             65536         0     65536   0% /var/lib/docker/containers/29d2cb204235d54dcf75535b27f9c70b80f59d435cb63ac280ac86d38db08f1f/mounts/shm',\n",
       " 'shm                             65536         0     65536   0% /var/lib/docker/containers/5ab0450456c083d8ee8e642d9c832ecd914d6e8ecfd65f9644067ece6c980fa8/mounts/shm',\n",
       " 'shm                             65536         0     65536   0% /var/lib/docker/containers/76054ae620c25643a0b16515475e469608dfe0f004b58b39fb9e9930829d8748/mounts/shm',\n",
       " 'shm                             65536         0     65536   0% /var/lib/docker/containers/87b487d63a4358610d017f308aed9f05a7c1263261b0c5b1548e532801a1784b/mounts/shm',\n",
       " 'shm                             65536         0     65536   0% /var/lib/docker/containers/912263e4fec100f795cd5533e182d85ba2b6772d310a6f6319e564db2bb71af6/mounts/shm',\n",
       " 'shm                             65536         0     65536   0% /var/lib/docker/containers/ab484dfccbabdb39fbd78790f69d1e7be51432d64d382fde94d88de93a893451/mounts/shm',\n",
       " 'shm                             65536         0     65536   0% /var/lib/docker/containers/b52360b95b6e12dbf3dc98e3639105dc133607096992cbb3db6a0d5b057e17cc/mounts/shm',\n",
       " 'shm                             65536         0     65536   0% /var/lib/docker/containers/d1d9070d410b938f89ecb99ee66eb52d41db0eb4a252e32206418d38f5187919/mounts/shm',\n",
       " 'shm                             65536         0     65536   0% /var/lib/docker/containers/d8c14b5cb745398e17a8aa7393414b1ceb411911a008f9d5febbd01b1b2751ac/mounts/shm',\n",
       " 'shm                             65536         0     65536   0% /var/lib/docker/containers/f8f295d4b954944d576f64e071556086fd45fdf7f956a2aaceaf33bb9ba7af0f/mounts/shm',\n",
       " 'tmpfs                            5120         4      5116   1% /run/lock',\n",
       " 'tmpfs                         3271952        20   3271932   1% /run/user/121',\n",
       " 'tmpfs                         3271952        76   3271876   1% /run/user/1000',\n",
       " 'tmpfs                         3271956      3516   3268440   1% /run',\n",
       " 'tmpfs                        16359760         0  16359760   0% /sys/fs/cgroup',\n",
       " 'tmpfs                        16359760    382492  15977268   3% /dev/shm',\n",
       " 'udev                         16336292         0  16336292   0% /dev']"
      ]
     },
     "execution_count": 24,
     "metadata": {},
     "output_type": "execute_result"
    }
   ],
   "source": [
    "df = !df\n",
    "df.sort(0, nums=True)"
   ]
  },
  {
   "cell_type": "code",
   "execution_count": 25,
   "id": "civil-cologne",
   "metadata": {
    "ExecuteTime": {
     "end_time": "2021-02-04T11:57:12.968500Z",
     "start_time": "2021-02-04T11:57:12.959472Z"
    }
   },
   "outputs": [
    {
     "data": {
      "text/plain": [
       "['Filesystem                  1K-blocks      Used Available Use% Mounted on',\n",
       " '/dev/loop11                       384       384         0 100% /snap/gnome-characters/570',\n",
       " '/dev/loop9                        384       384         0 100% /snap/gnome-characters/550',\n",
       " '/dev/loop19                      1024      1024         0 100% /snap/gnome-logs/100',\n",
       " '/dev/loop2                       1024      1024         0 100% /snap/gnome-logs/81',\n",
       " '/dev/loop17                      2304      2304         0 100% /snap/gnome-system-monitor/148',\n",
       " '/dev/loop24                      2560      2560         0 100% /snap/gnome-calculator/826',\n",
       " '/dev/loop3                       2560      2560         0 100% /snap/gnome-calculator/748',\n",
       " '/dev/loop18                      3840      3840         0 100% /snap/gnome-system-monitor/127',\n",
       " 'tmpfs                            5120         4      5116   1% /run/lock',\n",
       " '/dev/loop21                     26240     26240         0 100% /snap/heroku/4017',\n",
       " '/dev/loop6                      26240     26240         0 100% /snap/heroku/4010',\n",
       " '/dev/loop20                     56704     56704         0 100% /snap/core18/1932',\n",
       " '/dev/loop16                     56832     56832         0 100% /snap/core18/1944',\n",
       " 'shm                             65536         0     65536   0% /var/lib/docker/containers/0287b7b7fbd03f7e04117d4944667998f7a7a121dd74e005e1fed5e85aa8036b/mounts/shm',\n",
       " 'shm                             65536         0     65536   0% /var/lib/docker/containers/035c4681c757676e4785baee45c1a0cec17e6edb97c71ef7a11577dbfb3660a4/mounts/shm',\n",
       " 'shm                             65536         0     65536   0% /var/lib/docker/containers/29d2cb204235d54dcf75535b27f9c70b80f59d435cb63ac280ac86d38db08f1f/mounts/shm',\n",
       " 'shm                             65536         0     65536   0% /var/lib/docker/containers/5ab0450456c083d8ee8e642d9c832ecd914d6e8ecfd65f9644067ece6c980fa8/mounts/shm',\n",
       " 'shm                             65536         0     65536   0% /var/lib/docker/containers/76054ae620c25643a0b16515475e469608dfe0f004b58b39fb9e9930829d8748/mounts/shm',\n",
       " 'shm                             65536         0     65536   0% /var/lib/docker/containers/87b487d63a4358610d017f308aed9f05a7c1263261b0c5b1548e532801a1784b/mounts/shm',\n",
       " 'shm                             65536         0     65536   0% /var/lib/docker/containers/912263e4fec100f795cd5533e182d85ba2b6772d310a6f6319e564db2bb71af6/mounts/shm',\n",
       " 'shm                             65536         0     65536   0% /var/lib/docker/containers/ab484dfccbabdb39fbd78790f69d1e7be51432d64d382fde94d88de93a893451/mounts/shm',\n",
       " 'shm                             65536         0     65536   0% /var/lib/docker/containers/b52360b95b6e12dbf3dc98e3639105dc133607096992cbb3db6a0d5b057e17cc/mounts/shm',\n",
       " 'shm                             65536         0     65536   0% /var/lib/docker/containers/d1d9070d410b938f89ecb99ee66eb52d41db0eb4a252e32206418d38f5187919/mounts/shm',\n",
       " 'shm                             65536         0     65536   0% /var/lib/docker/containers/d8c14b5cb745398e17a8aa7393414b1ceb411911a008f9d5febbd01b1b2751ac/mounts/shm',\n",
       " 'shm                             65536         0     65536   0% /var/lib/docker/containers/f8f295d4b954944d576f64e071556086fd45fdf7f956a2aaceaf33bb9ba7af0f/mounts/shm',\n",
       " '/dev/loop23                     65920     65920         0 100% /snap/gtk-common-themes/1513',\n",
       " '/dev/loop13                     66432     66432         0 100% /snap/gtk-common-themes/1514',\n",
       " '/dev/loop15                     74880     74880         0 100% /snap/p3x-redis-ui/215',\n",
       " '/dev/loop10                     75008     75008         0 100% /snap/p3x-redis-ui/218',\n",
       " '/dev/loop22                     98176     98176         0 100% /snap/rpi-imager/137',\n",
       " '/dev/loop4                      98176     98176         0 100% /snap/rpi-imager/129',\n",
       " '/dev/loop14                    100224    100224         0 100% /snap/core/10577',\n",
       " '/dev/loop5                     100352    100352         0 100% /snap/core/10583',\n",
       " '/dev/loop12                    147328    147328         0 100% /snap/code/52',\n",
       " '/dev/loop25                    150144    150144         0 100% /snap/code/51',\n",
       " '/dev/loop7                     165376    165376         0 100% /snap/gnome-3-28-1804/128',\n",
       " '/dev/loop1                     166784    166784         0 100% /snap/gnome-3-28-1804/145',\n",
       " '/dev/loop0                     223232    223232         0 100% /snap/gnome-3-34-1804/60',\n",
       " '/dev/loop8                     224256    224256         0 100% /snap/gnome-3-34-1804/66',\n",
       " 'tmpfs                         3271952        20   3271932   1% /run/user/121',\n",
       " 'tmpfs                         3271952        76   3271876   1% /run/user/1000',\n",
       " 'tmpfs                         3271956      3516   3268440   1% /run',\n",
       " 'udev                         16336292         0  16336292   0% /dev',\n",
       " 'tmpfs                        16359760         0  16359760   0% /sys/fs/cgroup',\n",
       " 'tmpfs                        16359760    382492  15977268   3% /dev/shm',\n",
       " '/dev/mapper/ubuntu--vg-root 244094292 177977028  53648224  77% /',\n",
       " 'overlay                     244094292 177977028  53648224  77% /var/lib/docker/overlay2/0349574364bef7ec61ad1b36692097462a87ea50604c531c77567be4c4170d8d/merged',\n",
       " 'overlay                     244094292 177977028  53648224  77% /var/lib/docker/overlay2/1bf11d0bcd1a2be693bf1d2dd6d1016cd4edb99426f775050ce9619b0c279f41/merged',\n",
       " 'overlay                     244094292 177977028  53648224  77% /var/lib/docker/overlay2/1f167f2b6844ea214a3d2f73157bf623757247378bf22fb3737cbbdf17f796e4/merged',\n",
       " 'overlay                     244094292 177977028  53648224  77% /var/lib/docker/overlay2/2477cb66feaf98f1370367700df55dea9cc88af9ac5539a172605c358676a03e/merged',\n",
       " 'overlay                     244094292 177977028  53648224  77% /var/lib/docker/overlay2/31cb097ccbf2986c4c68c2e55e83b11d54a6a78ab2f068cedfc99708d2c049c8/merged',\n",
       " 'overlay                     244094292 177977028  53648224  77% /var/lib/docker/overlay2/345f0734d4bbba39db3f5cb33e753331d61a91e8b8099c3ddbac80481dcc55e8/merged',\n",
       " 'overlay                     244094292 177977028  53648224  77% /var/lib/docker/overlay2/38190ad599ec1cb6a6176cb196bdff7668123c3ab5d2b61adb65c2b8cfaaa208/merged',\n",
       " 'overlay                     244094292 177977028  53648224  77% /var/lib/docker/overlay2/536e0f62d36442fb3d2094e219e0f98e30bea5435a87c62eb8739533abcc5e6b/merged',\n",
       " 'overlay                     244094292 177977028  53648224  77% /var/lib/docker/overlay2/57fe2a7cc55ad23bfc26235aff5a271c9023ab076766d413ee552502b910c4fe/merged',\n",
       " 'overlay                     244094292 177977028  53648224  77% /var/lib/docker/overlay2/61a0a75535ff3a8cd44237b098fd4f714a34d952865adb8ab510d80e87cd7a11/merged',\n",
       " 'overlay                     244094292 177977028  53648224  77% /var/lib/docker/overlay2/64dfe6b892e0c785c3535945888fdb7e87a728ccee5968c5648870364e99f5f6/merged',\n",
       " 'overlay                     244094292 177977028  53648224  77% /var/lib/docker/overlay2/65aec73f7d80ab8ca7bcacfa26ecaef4ee6e301b93a648163f98218288fd69da/merged',\n",
       " 'overlay                     244094292 177977028  53648224  77% /var/lib/docker/overlay2/76a208ff253eef4cf9067c4f9d9bf0466173bf8baae71421008434877c9f128b/merged',\n",
       " 'overlay                     244094292 177977028  53648224  77% /var/lib/docker/overlay2/8792fb3bce7f7713fa695017bedc265565d93d5af11c4627be5766c47109b1c0/merged',\n",
       " 'overlay                     244094292 177977028  53648224  77% /var/lib/docker/overlay2/acf5bbbdb49d14b60f6037ac21b73e028a1083e8913dcdee54425c94552ffa25/merged',\n",
       " 'overlay                     244094292 177977028  53648224  77% /var/lib/docker/overlay2/be6d6aa2b183f721af04d11fb380c9496d57ed42dc56ab4e8a44dace2e14054a/merged',\n",
       " 'overlay                     244094292 177977028  53648224  77% /var/lib/docker/overlay2/c7649aede17da2e30baf2c0f61d25437fddf57cd6345ac2823f498b5ab55699e/merged',\n",
       " 'overlay                     244094292 177977028  53648224  77% /var/lib/docker/overlay2/de27dc5b1e7b617122a7200d8930a2b5bc545daa15e3c44a4f638e954de26aa9/merged',\n",
       " 'overlay                     244094292 177977028  53648224  77% /var/lib/docker/overlay2/e383dcb299bbbf2fa4adfe3317755e6cbf16f4f22678d4123b0386ad887ea817/merged',\n",
       " 'overlay                     244094292 177977028  53648224  77% /var/lib/docker/overlay2/e4173bfce7eba01850d3493ddc990fc049f2376377d0ae838bd85e4a90c7ad0e/merged',\n",
       " 'overlay                     244094292 177977028  53648224  77% /var/lib/docker/overlay2/e97e65a12a9cfb6ccae452f82c71998b950faa57a0170291dccb30d96d783fa7/merged',\n",
       " 'overlay                     244094292 177977028  53648224  77% /var/lib/docker/overlay2/ebdf164df04f054ebeeda79c00d0139e6470f4c1b878d1ebc9bb6cd41276afb0/merged',\n",
       " 'overlay                     244094292 177977028  53648224  77% /var/lib/docker/overlay2/f0d1e34d07b3610f9aaa8d2b72f227434b5e208cbfa3cec6d0315798f2dc44d5/merged',\n",
       " 'overlay                     244094292 177977028  53648224  77% /var/lib/docker/overlay2/f3b329e1e0cea6e3d409cb6943b47ef22fe38f0ee7eef9a74260cfa76fed6e1b/merged']"
      ]
     },
     "execution_count": 25,
     "metadata": {},
     "output_type": "execute_result"
    }
   ],
   "source": [
    "df.sort(1, nums=True)"
   ]
  },
  {
   "cell_type": "code",
   "execution_count": 26,
   "id": "controlled-billy",
   "metadata": {
    "ExecuteTime": {
     "end_time": "2021-02-04T11:57:12.982823Z",
     "start_time": "2021-02-04T11:57:12.970905Z"
    }
   },
   "outputs": [
    {
     "data": {
      "text/plain": [
       "['drwx------  4 fighter158 fighter158 4.0K Sep 10 18:46 .nv',\n",
       " 'drwxrwxr-x  3 fighter158 fighter158 4.0K Dec 11 16:13 nvidia',\n",
       " '-rw-rw-r--  1 fighter158 fighter158 2.2K Dec 23 18:50 .nvidia-settings-rc',\n",
       " 'drwxrwxr-x  6 fighter158 fighter158 4.0K Feb  1 12:00 .nvsdkm',\n",
       " '-rw-r--r--  1 fighter158 fighter158  310 Sep  8 16:11 .pam_environment']"
      ]
     },
     "execution_count": 26,
     "metadata": {},
     "output_type": "execute_result"
    }
   ],
   "source": [
    "ls = !ls -alh $HOME \n",
    "ls.grep(\"nv\")"
   ]
  },
  {
   "cell_type": "code",
   "execution_count": 27,
   "id": "affected-barrel",
   "metadata": {
    "ExecuteTime": {
     "end_time": "2021-02-04T11:57:12.991634Z",
     "start_time": "2021-02-04T11:57:12.984643Z"
    }
   },
   "outputs": [
    {
     "name": "stdout",
     "output_type": "stream",
     "text": [
      "Linux oringnet-ai 5.4.0-64-generic #72~18.04.1-Ubuntu SMP Fri Jan 15 14:06:34 UTC 2021 x86_64 x86_64 x86_64 GNU/Linux\n"
     ]
    }
   ],
   "source": [
    "%%bash\n",
    "uname -a"
   ]
  },
  {
   "cell_type": "code",
   "execution_count": 28,
   "id": "handy-radar",
   "metadata": {
    "ExecuteTime": {
     "end_time": "2021-02-04T11:57:12.995943Z",
     "start_time": "2021-02-04T11:57:12.992860Z"
    }
   },
   "outputs": [
    {
     "name": "stdout",
     "output_type": "stream",
     "text": [
      "Overwriting print_time.py\n"
     ]
    }
   ],
   "source": [
    "%%writefile print_time.py\n",
    "#!/usr/bin/python3\n",
    "\n",
    "import datetime\n",
    "print(datetime.datetime.now().time())"
   ]
  },
  {
   "cell_type": "code",
   "execution_count": 29,
   "id": "smart-nightlife",
   "metadata": {
    "ExecuteTime": {
     "end_time": "2021-02-04T11:57:13.124328Z",
     "start_time": "2021-02-04T11:57:12.996948Z"
    }
   },
   "outputs": [
    {
     "name": "stdout",
     "output_type": "stream",
     "text": [
      "19:57:13.017663\r\n"
     ]
    }
   ],
   "source": [
    "!/usr/bin/python3 print_time.py"
   ]
  },
  {
   "cell_type": "code",
   "execution_count": 30,
   "id": "boring-machine",
   "metadata": {
    "ExecuteTime": {
     "end_time": "2021-02-04T11:57:28.974410Z",
     "start_time": "2021-02-04T11:57:28.964757Z"
    }
   },
   "outputs": [
    {
     "name": "stdout",
     "output_type": "stream",
     "text": [
      "Template\t a\t autopep8\t b\t c\t cc_list\t count\t counter\t df\t \n",
      "genx\t greeting\t i\t json\t listx\t ls\t m\t match\t padding\t \n",
      "re\t sym\t sys\t text\t val\t \n"
     ]
    }
   ],
   "source": [
    "%who"
   ]
  },
  {
   "cell_type": "code",
   "execution_count": null,
   "id": "angry-sight",
   "metadata": {},
   "outputs": [],
   "source": []
  }
 ],
 "metadata": {
  "kernelspec": {
   "display_name": "Python 3",
   "language": "python",
   "name": "python3"
  },
  "language_info": {
   "codemirror_mode": {
    "name": "ipython",
    "version": 3
   },
   "file_extension": ".py",
   "mimetype": "text/x-python",
   "name": "python",
   "nbconvert_exporter": "python",
   "pygments_lexer": "ipython3",
   "version": "3.6.9"
  }
 },
 "nbformat": 4,
 "nbformat_minor": 5
}
